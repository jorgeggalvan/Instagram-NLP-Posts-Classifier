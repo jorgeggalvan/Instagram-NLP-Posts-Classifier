{
 "cells": [
  {
   "cell_type": "markdown",
   "metadata": {},
   "source": [
    "<br>\n",
    "<img src=\"data/instagram_logo.png\" alt=\"Logo de Instagram\" style=\"width:450px\"/>\n",
    "\n",
    "# **Instagram NLP Posts Classifier**<br>\n",
    "\n",
    "### 👨‍💻 Jorge Gómez Galván\n",
    "* LinkedIn: [linkedin.com/in/jorgeggalvan/](https://www.linkedin.com/in/jorgeggalvan/) \n",
    "* E-mail: ggalvanjorge@gmail.com\n",
    "---"
   ]
  },
  {
   "cell_type": "markdown",
   "metadata": {},
   "source": [
    "## **Procesamiento del lenguaje natural (NLP)**"
   ]
  },
  {
   "cell_type": "code",
   "execution_count": 1,
   "metadata": {
    "executionInfo": {
     "elapsed": 6272,
     "status": "ok",
     "timestamp": 1677581978646,
     "user": {
      "displayName": "José Ignacio Merino",
      "userId": "12418628321948581774"
     },
     "user_tz": -60
    },
    "id": "av4th4aUXd4U"
   },
   "outputs": [
    {
     "data": {
      "text/plain": [
       "True"
      ]
     },
     "execution_count": 1,
     "metadata": {},
     "output_type": "execute_result"
    }
   ],
   "source": [
    "# Importación de librerías\n",
    "import pandas as pd\n",
    "import matplotlib.pyplot as plt\n",
    "import matplotlib.ticker as mticker\n",
    "import seaborn as sns\n",
    "\n",
    "# Librerías para procesar texto\n",
    "import nltk\n",
    "from nltk.stem import WordNetLemmatizer\n",
    "\n",
    "# Descarga de los recursos más populares de la librería NLTK\n",
    "nltk.download('popular', quiet=True)"
   ]
  },
  {
   "cell_type": "code",
   "execution_count": 2,
   "metadata": {
    "colab": {
     "base_uri": "https://localhost:8080/",
     "height": 419
    },
    "executionInfo": {
     "elapsed": 7,
     "status": "ok",
     "timestamp": 1677581978646,
     "user": {
      "displayName": "José Ignacio Merino",
      "userId": "12418628321948581774"
     },
     "user_tz": -60
    },
    "id": "8aRkPBK_aghG",
    "outputId": "25ad5750-a8e3-439b-b5b3-31706eb357da"
   },
   "outputs": [
    {
     "data": {
      "text/html": [
       "<div>\n",
       "<style scoped>\n",
       "    .dataframe tbody tr th:only-of-type {\n",
       "        vertical-align: middle;\n",
       "    }\n",
       "\n",
       "    .dataframe tbody tr th {\n",
       "        vertical-align: top;\n",
       "    }\n",
       "\n",
       "    .dataframe thead th {\n",
       "        text-align: right;\n",
       "    }\n",
       "</style>\n",
       "<table border=\"1\" class=\"dataframe\">\n",
       "  <thead>\n",
       "    <tr style=\"text-align: right;\">\n",
       "      <th></th>\n",
       "      <th>category</th>\n",
       "      <th>text</th>\n",
       "    </tr>\n",
       "  </thead>\n",
       "  <tbody>\n",
       "    <tr>\n",
       "      <th>0</th>\n",
       "      <td>fashion</td>\n",
       "      <td>forcing the bridesmaids to join your #ootd #mi...</td>\n",
       "    </tr>\n",
       "    <tr>\n",
       "      <th>1</th>\n",
       "      <td>pet</td>\n",
       "      <td>Catman: How do I get anything done?Me: Welcome...</td>\n",
       "    </tr>\n",
       "    <tr>\n",
       "      <th>2</th>\n",
       "      <td>fashion</td>\n",
       "      <td>guys please check out @awa_khiwe, a really tal...</td>\n",
       "    </tr>\n",
       "    <tr>\n",
       "      <th>3</th>\n",
       "      <td>travel</td>\n",
       "      <td>With a world that feels like it's falling apar...</td>\n",
       "    </tr>\n",
       "    <tr>\n",
       "      <th>4</th>\n",
       "      <td>fashion</td>\n",
       "      <td>Last night 🤫🤫🤫 ..#pink #club #nightout #dress ...</td>\n",
       "    </tr>\n",
       "  </tbody>\n",
       "</table>\n",
       "</div>"
      ],
      "text/plain": [
       "  category                                               text\n",
       "0  fashion  forcing the bridesmaids to join your #ootd #mi...\n",
       "1      pet  Catman: How do I get anything done?Me: Welcome...\n",
       "2  fashion  guys please check out @awa_khiwe, a really tal...\n",
       "3   travel  With a world that feels like it's falling apar...\n",
       "4  fashion  Last night 🤫🤫🤫 ..#pink #club #nightout #dress ..."
      ]
     },
     "execution_count": 2,
     "metadata": {},
     "output_type": "execute_result"
    }
   ],
   "source": [
    "# Lectura del dataset\n",
    "df_posts = pd.read_csv('./data/instagram_posts.csv', sep=';', lineterminator='\\n')\n",
    "df_posts = df_posts.drop('Unnamed: 0', axis='columns') # Eliminación de columnas irrelevantes\n",
    "df_posts = df_posts[['category','text']] # Reordenamiento de columnas\n",
    "\n",
    "df_posts.head(5)"
   ]
  },
  {
   "cell_type": "code",
   "execution_count": 3,
   "metadata": {},
   "outputs": [
    {
     "data": {
      "text/plain": [
       "(618437, 2)"
      ]
     },
     "execution_count": 3,
     "metadata": {},
     "output_type": "execute_result"
    }
   ],
   "source": [
    "# Tamaño del dataset\n",
    "df_posts.shape"
   ]
  },
  {
   "cell_type": "code",
   "execution_count": 4,
   "metadata": {},
   "outputs": [
    {
     "data": {
      "text/html": [
       "<div>\n",
       "<style scoped>\n",
       "    .dataframe tbody tr th:only-of-type {\n",
       "        vertical-align: middle;\n",
       "    }\n",
       "\n",
       "    .dataframe tbody tr th {\n",
       "        vertical-align: top;\n",
       "    }\n",
       "\n",
       "    .dataframe thead th {\n",
       "        text-align: right;\n",
       "    }\n",
       "</style>\n",
       "<table border=\"1\" class=\"dataframe\">\n",
       "  <thead>\n",
       "    <tr style=\"text-align: right;\">\n",
       "      <th></th>\n",
       "      <th>category</th>\n",
       "      <th>percentage</th>\n",
       "    </tr>\n",
       "  </thead>\n",
       "  <tbody>\n",
       "    <tr>\n",
       "      <th>0</th>\n",
       "      <td>fashion</td>\n",
       "      <td>0.3308</td>\n",
       "    </tr>\n",
       "    <tr>\n",
       "      <th>1</th>\n",
       "      <td>other</td>\n",
       "      <td>0.1614</td>\n",
       "    </tr>\n",
       "    <tr>\n",
       "      <th>2</th>\n",
       "      <td>family</td>\n",
       "      <td>0.1298</td>\n",
       "    </tr>\n",
       "    <tr>\n",
       "      <th>3</th>\n",
       "      <td>food</td>\n",
       "      <td>0.1231</td>\n",
       "    </tr>\n",
       "    <tr>\n",
       "      <th>4</th>\n",
       "      <td>travel</td>\n",
       "      <td>0.1183</td>\n",
       "    </tr>\n",
       "    <tr>\n",
       "      <th>5</th>\n",
       "      <td>beauty</td>\n",
       "      <td>0.0407</td>\n",
       "    </tr>\n",
       "    <tr>\n",
       "      <th>6</th>\n",
       "      <td>interior</td>\n",
       "      <td>0.0403</td>\n",
       "    </tr>\n",
       "    <tr>\n",
       "      <th>7</th>\n",
       "      <td>fitness</td>\n",
       "      <td>0.0360</td>\n",
       "    </tr>\n",
       "    <tr>\n",
       "      <th>8</th>\n",
       "      <td>pet</td>\n",
       "      <td>0.0196</td>\n",
       "    </tr>\n",
       "    <tr>\n",
       "      <th>9</th>\n",
       "      <td>fasion</td>\n",
       "      <td>0.0000</td>\n",
       "    </tr>\n",
       "  </tbody>\n",
       "</table>\n",
       "</div>"
      ],
      "text/plain": [
       "   category  percentage\n",
       "0   fashion      0.3308\n",
       "1     other      0.1614\n",
       "2    family      0.1298\n",
       "3      food      0.1231\n",
       "4    travel      0.1183\n",
       "5    beauty      0.0407\n",
       "6  interior      0.0403\n",
       "7   fitness      0.0360\n",
       "8       pet      0.0196\n",
       "9    fasion      0.0000"
      ]
     },
     "execution_count": 4,
     "metadata": {},
     "output_type": "execute_result"
    }
   ],
   "source": [
    "# Porcentaje de publicaciones por categoría\n",
    "category_post = df_posts['category'].value_counts(normalize=True).round(4)\n",
    "category_post = category_post.to_frame(name='percentage').reset_index().rename(columns={'index':'category'})\n",
    "\n",
    "category_post"
   ]
  },
  {
   "cell_type": "code",
   "execution_count": 5,
   "metadata": {},
   "outputs": [
    {
     "data": {
      "image/png": "[encoded data removed]",
      "text/plain": [
       "<Figure size 1000x500 with 1 Axes>"
      ]
     },
     "metadata": {},
     "output_type": "display_data"
    }
   ],
   "source": [
    "plt.figure(figsize=(10, 5)) # Ajuste del tamaño del gráfico\n",
    "\n",
    "# Gráficos de barras con el porcentaje de publicaciones por categoría\n",
    "sns.barplot(x='percentage', y='category', data=category_post, color='#FF0069')\n",
    "\n",
    "# Título y etiquetas de los ejes\n",
    "plt.title('Distribución porcentual de las publicaciones por categoría')\n",
    "plt.xlabel('Porcentaje de publicaciones')\n",
    "plt.ylabel('Categoría')\n",
    "plt.xlim(0, 0.5) # Ajuste del límite del eje x\n",
    "\n",
    "# Configuración para agregar el signo de porcentaje al eje x\n",
    "plt.gca().xaxis.set_major_formatter(mticker.PercentFormatter(xmax=1, decimals=0))\n",
    "\n",
    "plt.show()"
   ]
  },
  {
   "cell_type": "markdown",
   "metadata": {},
   "source": [
    "### 1 - Normalización de categorías"
   ]
  },
  {
   "cell_type": "code",
   "execution_count": 6,
   "metadata": {},
   "outputs": [],
   "source": [
    "# Normalización de la categoría 'fasion'\n",
    "df_posts['category'] = df_posts['category'].str.replace('fasion', 'fashion')"
   ]
  },
  {
   "cell_type": "markdown",
   "metadata": {},
   "source": [
    "### 2 - Lowercasing"
   ]
  },
  {
   "cell_type": "code",
   "execution_count": 7,
   "metadata": {
    "executionInfo": {
     "elapsed": 2433,
     "status": "ok",
     "timestamp": 1677581981075,
     "user": {
      "displayName": "José Ignacio Merino",
      "userId": "12418628321948581774"
     },
     "user_tz": -60
    },
    "id": "Cgm7nGwHbhVN"
   },
   "outputs": [],
   "source": [
    "# Conversión de las mayúsculas del texto de las publicaciones a minúsculas\n",
    "df_posts['text'] = df_posts['text'].str.lower().replace(',')"
   ]
  },
  {
   "cell_type": "markdown",
   "metadata": {},
   "source": [
    "### 3 - Tokenización"
   ]
  },
  {
   "cell_type": "code",
   "execution_count": 8,
   "metadata": {},
   "outputs": [
    {
     "data": {
      "text/html": [
       "<div>\n",
       "<style scoped>\n",
       "    .dataframe tbody tr th:only-of-type {\n",
       "        vertical-align: middle;\n",
       "    }\n",
       "\n",
       "    .dataframe tbody tr th {\n",
       "        vertical-align: top;\n",
       "    }\n",
       "\n",
       "    .dataframe thead th {\n",
       "        text-align: right;\n",
       "    }\n",
       "</style>\n",
       "<table border=\"1\" class=\"dataframe\">\n",
       "  <thead>\n",
       "    <tr style=\"text-align: right;\">\n",
       "      <th></th>\n",
       "      <th>category</th>\n",
       "      <th>text</th>\n",
       "      <th>text_tokenized</th>\n",
       "    </tr>\n",
       "  </thead>\n",
       "  <tbody>\n",
       "    <tr>\n",
       "      <th>0</th>\n",
       "      <td>fashion</td>\n",
       "      <td>forcing the bridesmaids to join your #ootd #mi...</td>\n",
       "      <td>[forcing, the, bridesmaids, to, join, your, #,...</td>\n",
       "    </tr>\n",
       "    <tr>\n",
       "      <th>1</th>\n",
       "      <td>pet</td>\n",
       "      <td>catman: how do i get anything done?me: welcome...</td>\n",
       "      <td>[catman, :, how, do, i, get, anything, done, ?...</td>\n",
       "    </tr>\n",
       "    <tr>\n",
       "      <th>2</th>\n",
       "      <td>fashion</td>\n",
       "      <td>guys please check out @awa_khiwe, a really tal...</td>\n",
       "      <td>[guys, please, check, out, @, awa_khiwe, ,, a,...</td>\n",
       "    </tr>\n",
       "    <tr>\n",
       "      <th>3</th>\n",
       "      <td>travel</td>\n",
       "      <td>with a world that feels like it's falling apar...</td>\n",
       "      <td>[with, a, world, that, feels, like, it, 's, fa...</td>\n",
       "    </tr>\n",
       "    <tr>\n",
       "      <th>4</th>\n",
       "      <td>fashion</td>\n",
       "      <td>last night 🤫🤫🤫 ..#pink #club #nightout #dress ...</td>\n",
       "      <td>[last, night, 🤫🤫🤫, .., #, pink, #, club, #, ni...</td>\n",
       "    </tr>\n",
       "  </tbody>\n",
       "</table>\n",
       "</div>"
      ],
      "text/plain": [
       "  category                                               text  \\\n",
       "0  fashion  forcing the bridesmaids to join your #ootd #mi...   \n",
       "1      pet  catman: how do i get anything done?me: welcome...   \n",
       "2  fashion  guys please check out @awa_khiwe, a really tal...   \n",
       "3   travel  with a world that feels like it's falling apar...   \n",
       "4  fashion  last night 🤫🤫🤫 ..#pink #club #nightout #dress ...   \n",
       "\n",
       "                                      text_tokenized  \n",
       "0  [forcing, the, bridesmaids, to, join, your, #,...  \n",
       "1  [catman, :, how, do, i, get, anything, done, ?...  \n",
       "2  [guys, please, check, out, @, awa_khiwe, ,, a,...  \n",
       "3  [with, a, world, that, feels, like, it, 's, fa...  \n",
       "4  [last, night, 🤫🤫🤫, .., #, pink, #, club, #, ni...  "
      ]
     },
     "execution_count": 8,
     "metadata": {},
     "output_type": "execute_result"
    }
   ],
   "source": [
    "# Lista vacía para almacenar los textos tokenizados\n",
    "list_text_tokenized = []\n",
    "\n",
    "# Bucle para tokenizar los textos\n",
    "for text in df_posts['text']:\n",
    "    \n",
    "    # División del texto en palabras\n",
    "    text_tokenized = nltk.word_tokenize(text = text)\n",
    "    \n",
    "    # Agregar los textos tokenizados a la lista\n",
    "    list_text_tokenized.append(text_tokenized)\n",
    "\n",
    "# Agregar los textos tokenizados al dataframe\n",
    "df_posts['text_tokenized'] = list_text_tokenized\n",
    "df_posts.head(5)"
   ]
  },
  {
   "cell_type": "markdown",
   "metadata": {},
   "source": [
    "### 4 - Eliminación de stop words"
   ]
  },
  {
   "cell_type": "code",
   "execution_count": 9,
   "metadata": {
    "colab": {
     "base_uri": "https://localhost:8080/"
    },
    "executionInfo": {
     "elapsed": 260,
     "status": "ok",
     "timestamp": 1677581983008,
     "user": {
      "displayName": "José Ignacio Merino",
      "userId": "12418628321948581774"
     },
     "user_tz": -60
    },
    "id": "i1YgXcCTjO_Y",
    "outputId": "8eb74978-2833-4d71-b491-a75be30a6a7e"
   },
   "outputs": [
    {
     "name": "stdout",
     "output_type": "stream",
     "text": [
      "['i', 'me', 'my', 'myself', 'we', 'our', 'ours', 'ourselves', 'you', \"you're\", \"you've\", \"you'll\", \"you'd\", 'your', 'yours', 'yourself', 'yourselves', 'he', 'him', 'his', 'himself', 'she', \"she's\", 'her', 'hers', 'herself', 'it', \"it's\", 'its', 'itself', 'they', 'them', 'their', 'theirs', 'themselves', 'what', 'which', 'who', 'whom', 'this', 'that', \"that'll\", 'these', 'those', 'am', 'is', 'are', 'was', 'were', 'be', 'been', 'being', 'have', 'has', 'had', 'having', 'do', 'does', 'did', 'doing', 'a', 'an', 'the', 'and', 'but', 'if', 'or', 'because', 'as', 'until', 'while', 'of', 'at', 'by', 'for', 'with', 'about', 'against', 'between', 'into', 'through', 'during', 'before', 'after', 'above', 'below', 'to', 'from', 'up', 'down', 'in', 'out', 'on', 'off', 'over', 'under', 'again', 'further', 'then', 'once', 'here', 'there', 'when', 'where', 'why', 'how', 'all', 'any', 'both', 'each', 'few', 'more', 'most', 'other', 'some', 'such', 'no', 'nor', 'not', 'only', 'own', 'same', 'so', 'than', 'too', 'very', 's', 't', 'can', 'will', 'just', 'don', \"don't\", 'should', \"should've\", 'now', 'd', 'll', 'm', 'o', 're', 've', 'y', 'ain', 'aren', \"aren't\", 'couldn', \"couldn't\", 'didn', \"didn't\", 'doesn', \"doesn't\", 'hadn', \"hadn't\", 'hasn', \"hasn't\", 'haven', \"haven't\", 'isn', \"isn't\", 'ma', 'mightn', \"mightn't\", 'mustn', \"mustn't\", 'needn', \"needn't\", 'shan', \"shan't\", 'shouldn', \"shouldn't\", 'wasn', \"wasn't\", 'weren', \"weren't\", 'won', \"won't\", 'wouldn', \"wouldn't\"]\n"
     ]
    }
   ],
   "source": [
    "# Importación de las stop words\n",
    "stop_words = nltk.corpus.stopwords.words('english')\n",
    "\n",
    "print(stop_words)"
   ]
  },
  {
   "cell_type": "code",
   "execution_count": 10,
   "metadata": {},
   "outputs": [
    {
     "data": {
      "text/html": [
       "<div>\n",
       "<style scoped>\n",
       "    .dataframe tbody tr th:only-of-type {\n",
       "        vertical-align: middle;\n",
       "    }\n",
       "\n",
       "    .dataframe tbody tr th {\n",
       "        vertical-align: top;\n",
       "    }\n",
       "\n",
       "    .dataframe thead th {\n",
       "        text-align: right;\n",
       "    }\n",
       "</style>\n",
       "<table border=\"1\" class=\"dataframe\">\n",
       "  <thead>\n",
       "    <tr style=\"text-align: right;\">\n",
       "      <th></th>\n",
       "      <th>category</th>\n",
       "      <th>text</th>\n",
       "      <th>text_tokenized</th>\n",
       "      <th>text_filtered</th>\n",
       "    </tr>\n",
       "  </thead>\n",
       "  <tbody>\n",
       "    <tr>\n",
       "      <th>0</th>\n",
       "      <td>fashion</td>\n",
       "      <td>forcing the bridesmaids to join your #ootd #mi...</td>\n",
       "      <td>[forcing, the, bridesmaids, to, join, your, #,...</td>\n",
       "      <td>[forcing, bridesmaids, join, #, ootd, #, mirro...</td>\n",
       "    </tr>\n",
       "    <tr>\n",
       "      <th>1</th>\n",
       "      <td>pet</td>\n",
       "      <td>catman: how do i get anything done?me: welcome...</td>\n",
       "      <td>[catman, :, how, do, i, get, anything, done, ?...</td>\n",
       "      <td>[catman, :, get, anything, done, ?, :, welcome...</td>\n",
       "    </tr>\n",
       "    <tr>\n",
       "      <th>2</th>\n",
       "      <td>fashion</td>\n",
       "      <td>guys please check out @awa_khiwe, a really tal...</td>\n",
       "      <td>[guys, please, check, out, @, awa_khiwe, ,, a,...</td>\n",
       "      <td>[guys, please, check, @, awa_khiwe, ,, really,...</td>\n",
       "    </tr>\n",
       "    <tr>\n",
       "      <th>3</th>\n",
       "      <td>travel</td>\n",
       "      <td>with a world that feels like it's falling apar...</td>\n",
       "      <td>[with, a, world, that, feels, like, it, 's, fa...</td>\n",
       "      <td>[world, feels, like, 's, falling, apart, ,, 's...</td>\n",
       "    </tr>\n",
       "    <tr>\n",
       "      <th>4</th>\n",
       "      <td>fashion</td>\n",
       "      <td>last night 🤫🤫🤫 ..#pink #club #nightout #dress ...</td>\n",
       "      <td>[last, night, 🤫🤫🤫, .., #, pink, #, club, #, ni...</td>\n",
       "      <td>[last, night, 🤫🤫🤫, .., #, pink, #, club, #, ni...</td>\n",
       "    </tr>\n",
       "  </tbody>\n",
       "</table>\n",
       "</div>"
      ],
      "text/plain": [
       "  category                                               text  \\\n",
       "0  fashion  forcing the bridesmaids to join your #ootd #mi...   \n",
       "1      pet  catman: how do i get anything done?me: welcome...   \n",
       "2  fashion  guys please check out @awa_khiwe, a really tal...   \n",
       "3   travel  with a world that feels like it's falling apar...   \n",
       "4  fashion  last night 🤫🤫🤫 ..#pink #club #nightout #dress ...   \n",
       "\n",
       "                                      text_tokenized  \\\n",
       "0  [forcing, the, bridesmaids, to, join, your, #,...   \n",
       "1  [catman, :, how, do, i, get, anything, done, ?...   \n",
       "2  [guys, please, check, out, @, awa_khiwe, ,, a,...   \n",
       "3  [with, a, world, that, feels, like, it, 's, fa...   \n",
       "4  [last, night, 🤫🤫🤫, .., #, pink, #, club, #, ni...   \n",
       "\n",
       "                                       text_filtered  \n",
       "0  [forcing, bridesmaids, join, #, ootd, #, mirro...  \n",
       "1  [catman, :, get, anything, done, ?, :, welcome...  \n",
       "2  [guys, please, check, @, awa_khiwe, ,, really,...  \n",
       "3  [world, feels, like, 's, falling, apart, ,, 's...  \n",
       "4  [last, night, 🤫🤫🤫, .., #, pink, #, club, #, ni...  "
      ]
     },
     "execution_count": 10,
     "metadata": {},
     "output_type": "execute_result"
    }
   ],
   "source": [
    "# Lista vacía para almacenar los textos sin stop words\n",
    "list_text_filtered = []\n",
    "\n",
    "# Bucle para eliminar las stops words\n",
    "for text in df_posts['text_tokenized']:\n",
    "    \n",
    "    # Eliminación de las stop words\n",
    "    text_filtered = list(filter(lambda word: word not in stop_words, text))\n",
    "    \n",
    "    # Agregar los textos sin stop words a la lista\n",
    "    list_text_filtered.append(text_filtered)\n",
    "\n",
    "# Agregar los textos sin stop words al dataframe\n",
    "df_posts['text_filtered'] = list_text_filtered\n",
    "df_posts.head(5)"
   ]
  },
  {
   "cell_type": "markdown",
   "metadata": {},
   "source": [
    "<div style=\"border: 5px solid #FF0069; padding: 20px; font-size: 16px; background-color: rgba(255, 0, 105, 0.2);\">\n",
    "Las stop words son palabras comunes y poco informativas en un idioma. Estas palabras tienen un uso frecuente, pero aportan poco valor semántico o contextual en el análisis de texto. \n",
    "<br><br>\n",
    "Eliminar las stop words de cara a realizar un modelo de clasificación de publicaciones puede ser relevante, ya que reduce la dimensión del conjunto de palabras, mejora la calidad del texto al destacar palabras clave relevantes y permite al modelo centrarse en información significativa para una clasificación precisa.\n",
    "</div>"
   ]
  },
  {
   "cell_type": "markdown",
   "metadata": {},
   "source": [
    "### 5 - Lematización de palabras"
   ]
  },
  {
   "cell_type": "code",
   "execution_count": 11,
   "metadata": {},
   "outputs": [
    {
     "data": {
      "text/html": [
       "<div>\n",
       "<style scoped>\n",
       "    .dataframe tbody tr th:only-of-type {\n",
       "        vertical-align: middle;\n",
       "    }\n",
       "\n",
       "    .dataframe tbody tr th {\n",
       "        vertical-align: top;\n",
       "    }\n",
       "\n",
       "    .dataframe thead th {\n",
       "        text-align: right;\n",
       "    }\n",
       "</style>\n",
       "<table border=\"1\" class=\"dataframe\">\n",
       "  <thead>\n",
       "    <tr style=\"text-align: right;\">\n",
       "      <th></th>\n",
       "      <th>category</th>\n",
       "      <th>text</th>\n",
       "      <th>text_tokenized</th>\n",
       "      <th>text_filtered</th>\n",
       "      <th>text_lemmatized</th>\n",
       "    </tr>\n",
       "  </thead>\n",
       "  <tbody>\n",
       "    <tr>\n",
       "      <th>0</th>\n",
       "      <td>fashion</td>\n",
       "      <td>forcing the bridesmaids to join your #ootd #mi...</td>\n",
       "      <td>[forcing, the, bridesmaids, to, join, your, #,...</td>\n",
       "      <td>[forcing, bridesmaids, join, #, ootd, #, mirro...</td>\n",
       "      <td>forcing bridesmaid join # ootd # mirrormoment ...</td>\n",
       "    </tr>\n",
       "    <tr>\n",
       "      <th>1</th>\n",
       "      <td>pet</td>\n",
       "      <td>catman: how do i get anything done?me: welcome...</td>\n",
       "      <td>[catman, :, how, do, i, get, anything, done, ?...</td>\n",
       "      <td>[catman, :, get, anything, done, ?, :, welcome...</td>\n",
       "      <td>catman : get anything done ? : welcome world 😀...</td>\n",
       "    </tr>\n",
       "    <tr>\n",
       "      <th>2</th>\n",
       "      <td>fashion</td>\n",
       "      <td>guys please check out @awa_khiwe, a really tal...</td>\n",
       "      <td>[guys, please, check, out, @, awa_khiwe, ,, a,...</td>\n",
       "      <td>[guys, please, check, @, awa_khiwe, ,, really,...</td>\n",
       "      <td>guy please check @ awa_khiwe , really talented...</td>\n",
       "    </tr>\n",
       "    <tr>\n",
       "      <th>3</th>\n",
       "      <td>travel</td>\n",
       "      <td>with a world that feels like it's falling apar...</td>\n",
       "      <td>[with, a, world, that, feels, like, it, 's, fa...</td>\n",
       "      <td>[world, feels, like, 's, falling, apart, ,, 's...</td>\n",
       "      <td>world feel like 's falling apart , 's importan...</td>\n",
       "    </tr>\n",
       "    <tr>\n",
       "      <th>4</th>\n",
       "      <td>fashion</td>\n",
       "      <td>last night 🤫🤫🤫 ..#pink #club #nightout #dress ...</td>\n",
       "      <td>[last, night, 🤫🤫🤫, .., #, pink, #, club, #, ni...</td>\n",
       "      <td>[last, night, 🤫🤫🤫, .., #, pink, #, club, #, ni...</td>\n",
       "      <td>last night 🤫🤫🤫 .. # pink # club # nightout # d...</td>\n",
       "    </tr>\n",
       "  </tbody>\n",
       "</table>\n",
       "</div>"
      ],
      "text/plain": [
       "  category                                               text  \\\n",
       "0  fashion  forcing the bridesmaids to join your #ootd #mi...   \n",
       "1      pet  catman: how do i get anything done?me: welcome...   \n",
       "2  fashion  guys please check out @awa_khiwe, a really tal...   \n",
       "3   travel  with a world that feels like it's falling apar...   \n",
       "4  fashion  last night 🤫🤫🤫 ..#pink #club #nightout #dress ...   \n",
       "\n",
       "                                      text_tokenized  \\\n",
       "0  [forcing, the, bridesmaids, to, join, your, #,...   \n",
       "1  [catman, :, how, do, i, get, anything, done, ?...   \n",
       "2  [guys, please, check, out, @, awa_khiwe, ,, a,...   \n",
       "3  [with, a, world, that, feels, like, it, 's, fa...   \n",
       "4  [last, night, 🤫🤫🤫, .., #, pink, #, club, #, ni...   \n",
       "\n",
       "                                       text_filtered  \\\n",
       "0  [forcing, bridesmaids, join, #, ootd, #, mirro...   \n",
       "1  [catman, :, get, anything, done, ?, :, welcome...   \n",
       "2  [guys, please, check, @, awa_khiwe, ,, really,...   \n",
       "3  [world, feels, like, 's, falling, apart, ,, 's...   \n",
       "4  [last, night, 🤫🤫🤫, .., #, pink, #, club, #, ni...   \n",
       "\n",
       "                                     text_lemmatized  \n",
       "0  forcing bridesmaid join # ootd # mirrormoment ...  \n",
       "1  catman : get anything done ? : welcome world 😀...  \n",
       "2  guy please check @ awa_khiwe , really talented...  \n",
       "3  world feel like 's falling apart , 's importan...  \n",
       "4  last night 🤫🤫🤫 .. # pink # club # nightout # d...  "
      ]
     },
     "execution_count": 11,
     "metadata": {},
     "output_type": "execute_result"
    }
   ],
   "source": [
    "# Lista vacía para almacenar los textos lematizados\n",
    "list_text_lemmatized = []\n",
    "\n",
    "# Inicialización de un lematizador para el inglés\n",
    "wnl = WordNetLemmatizer()\n",
    "\n",
    "# Bucle para lematizar las palabras\n",
    "for text in df_posts['text_filtered']:\n",
    "    \n",
    "    # Lematización de las palabras y unificación de las mismas para volver a formar una frase\n",
    "    text_lemmatized = \" \".join([wnl.lemmatize(word) for word in text])\n",
    "    \n",
    "    # Agregar los textos lematizados a la lista\n",
    "    list_text_lemmatized.append(text_lemmatized)\n",
    "\n",
    "# Agregar los textos lematizados al dataframe\n",
    "df_posts['text_lemmatized'] = list_text_lemmatized\n",
    "df_posts.head(5)"
   ]
  },
  {
   "cell_type": "markdown",
   "metadata": {},
   "source": [
    "<div style=\"border: 5px solid #FF0069; padding: 20px; font-size: 16px; background-color: rgba(255, 0, 105, 0.2);\">\n",
    "Lematizar palabras implica reducir las palabras a su forma base o raíz, eliminando inflexiones y variantes, como el plural, el género, las conjugaciones verbales, etc.\n",
    "<br><br>\n",
    "En el contexto de clasificar texto con Machine Learning, lematizar las palabras es interesante para simplificar las palabras a su forma fundamental, lo que ayuda al modelo a reconocer y agrupar términos relacionados. Esto contribuye a un mejor entendimiento del contenido y a clasificar con mayor precisión al reducir la variabilidad y considerar las palabras en su contexto esencial.\n",
    "</div>"
   ]
  },
  {
   "cell_type": "markdown",
   "metadata": {},
   "source": [
    "<div style=\"border: 5px solid #FF0069; padding: 20px; font-size: 16px; background-color: rgba(255, 0, 105, 0.2);\">\n",
    "🧐 Lógicamente, todo el proceso de tokenizar, eliminar las stop words y lematizar las palabras se podría haber realizado en un único bucle, ahorrando así coste computacional, pero se ha querido realizar en diferentes bucles para detallar con mayor claridad el paso a paso.\n",
    "</div>"
   ]
  },
  {
   "cell_type": "markdown",
   "metadata": {},
   "source": [
    "### 6 - Eliminación de registros vacíos o nulos"
   ]
  },
  {
   "cell_type": "code",
   "execution_count": 12,
   "metadata": {
    "executionInfo": {
     "elapsed": 248,
     "status": "ok",
     "timestamp": 1677582173519,
     "user": {
      "displayName": "José Ignacio Merino",
      "userId": "12418628321948581774"
     },
     "user_tz": -60
    },
    "id": "j0yihMn1ly49"
   },
   "outputs": [],
   "source": [
    "# Eliminación de los registros vacíos o con valores nulos\n",
    "df_posts = df_posts[\n",
    "    (df_posts['text_lemmatized'].isna() == False) &\n",
    "    (df_posts['text_lemmatized'].str.len() != 0) &\n",
    "    (df_posts['category'].isnull() == False)\n",
    "]"
   ]
  },
  {
   "cell_type": "code",
   "execution_count": 13,
   "metadata": {
    "colab": {
     "base_uri": "https://localhost:8080/"
    },
    "executionInfo": {
     "elapsed": 278,
     "status": "ok",
     "timestamp": 1677582175459,
     "user": {
      "displayName": "José Ignacio Merino",
      "userId": "12418628321948581774"
     },
     "user_tz": -60
    },
    "id": "WGrR71kdrdH5",
    "outputId": "beb0df68-6718-4f9c-9fd5-fb2fefd59b42"
   },
   "outputs": [
    {
     "data": {
      "text/plain": [
       "(607567, 5)"
      ]
     },
     "execution_count": 13,
     "metadata": {},
     "output_type": "execute_result"
    }
   ],
   "source": [
    "# Tamaño del dataset tras el filtrado\n",
    "df_posts.shape"
   ]
  },
  {
   "cell_type": "markdown",
   "metadata": {},
   "source": [
    "### 7 - Selección de columnas relevantes para Machine Learning"
   ]
  },
  {
   "cell_type": "code",
   "execution_count": 14,
   "metadata": {},
   "outputs": [
    {
     "data": {
      "text/html": [
       "<div>\n",
       "<style scoped>\n",
       "    .dataframe tbody tr th:only-of-type {\n",
       "        vertical-align: middle;\n",
       "    }\n",
       "\n",
       "    .dataframe tbody tr th {\n",
       "        vertical-align: top;\n",
       "    }\n",
       "\n",
       "    .dataframe thead th {\n",
       "        text-align: right;\n",
       "    }\n",
       "</style>\n",
       "<table border=\"1\" class=\"dataframe\">\n",
       "  <thead>\n",
       "    <tr style=\"text-align: right;\">\n",
       "      <th></th>\n",
       "      <th>category</th>\n",
       "      <th>text_lemmatized</th>\n",
       "    </tr>\n",
       "  </thead>\n",
       "  <tbody>\n",
       "    <tr>\n",
       "      <th>0</th>\n",
       "      <td>fashion</td>\n",
       "      <td>forcing bridesmaid join # ootd # mirrormoment ...</td>\n",
       "    </tr>\n",
       "    <tr>\n",
       "      <th>1</th>\n",
       "      <td>pet</td>\n",
       "      <td>catman : get anything done ? : welcome world 😀...</td>\n",
       "    </tr>\n",
       "    <tr>\n",
       "      <th>2</th>\n",
       "      <td>fashion</td>\n",
       "      <td>guy please check @ awa_khiwe , really talented...</td>\n",
       "    </tr>\n",
       "    <tr>\n",
       "      <th>3</th>\n",
       "      <td>travel</td>\n",
       "      <td>world feel like 's falling apart , 's importan...</td>\n",
       "    </tr>\n",
       "    <tr>\n",
       "      <th>4</th>\n",
       "      <td>fashion</td>\n",
       "      <td>last night 🤫🤫🤫 .. # pink # club # nightout # d...</td>\n",
       "    </tr>\n",
       "  </tbody>\n",
       "</table>\n",
       "</div>"
      ],
      "text/plain": [
       "  category                                    text_lemmatized\n",
       "0  fashion  forcing bridesmaid join # ootd # mirrormoment ...\n",
       "1      pet  catman : get anything done ? : welcome world 😀...\n",
       "2  fashion  guy please check @ awa_khiwe , really talented...\n",
       "3   travel  world feel like 's falling apart , 's importan...\n",
       "4  fashion  last night 🤫🤫🤫 .. # pink # club # nightout # d..."
      ]
     },
     "execution_count": 14,
     "metadata": {},
     "output_type": "execute_result"
    }
   ],
   "source": [
    "# Eliminación de las columnas no necesarias para el modelo de Machine Learning\n",
    "df_posts = df_posts.drop(columns=['text','text_tokenized','text_filtered'])\n",
    "\n",
    "df_posts.head(5)"
   ]
  },
  {
   "cell_type": "code",
   "execution_count": 15,
   "metadata": {},
   "outputs": [],
   "source": [
    "# Exportación del dataset\n",
    "df_posts.to_csv('./data/instagram_posts_lemmatized.csv')"
   ]
  }
 ],
 "metadata": {
  "colab": {
   "authorship_tag": "ABX9TyMQ8NsQYu8b3hmzH7vHB794",
   "mount_file_id": "1-kw_3xtsxMY1s6FEsenp-9mMOu-Ciln8",
   "provenance": []
  },
  "kernelspec": {
   "display_name": "Python 3 (ipykernel)",
   "language": "python",
   "name": "python3"
  },
  "language_info": {
   "codemirror_mode": {
    "name": "ipython",
    "version": 3
   },
   "file_extension": ".py",
   "mimetype": "text/x-python",
   "name": "python",
   "nbconvert_exporter": "python",
   "pygments_lexer": "ipython3",
   "version": "3.9.13"
  },
  "toc-autonumbering": false
 },
 "nbformat": 4,
 "nbformat_minor": 4
}
