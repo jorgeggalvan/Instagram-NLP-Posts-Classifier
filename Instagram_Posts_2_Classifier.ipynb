{
 "cells": [
  {
   "cell_type": "markdown",
   "metadata": {
    "id": "uiTJOFxHU8_m"
   },
   "source": [
    "<br>\n",
    "<img src=\"data/instagram_logo.png\" alt=\"Logo de Instagram\" style=\"width:450px\"/>\n",
    "\n",
    "# **Instagram NLP Posts Classifier**<br>\n",
    "\n",
    "### 👨‍💻 Jorge Gómez Galván\n",
    "* LinkedIn: [linkedin.com/in/jorgeggalvan/](https://www.linkedin.com/in/jorgeggalvan/)\n",
    "* E-mail: ggalvanjorge@gmail.com\n",
    "---"
   ]
  },
  {
   "cell_type": "markdown",
   "metadata": {
    "id": "FpR6bj32U8_p"
   },
   "source": [
    "## **Clasificación multiclase mediante Machine Learning**"
   ]
  },
  {
   "cell_type": "code",
   "execution_count": 1,
   "metadata": {
    "id": "av4th4aUXd4U"
   },
   "outputs": [],
   "source": [
    "# Importación de librerías\n",
    "import pandas as pd\n",
    "\n",
    "import warnings\n",
    "warnings.filterwarnings('ignore')\n",
    "\n",
    "# Librerías de Machine Learning\n",
    "from sklearn.feature_extraction.text import TfidfVectorizer\n",
    "\n",
    "from sklearn.model_selection import train_test_split\n",
    "from sklearn.svm import SVC\n",
    "\n",
    "from sklearn.metrics import precision_score, recall_score, f1_score\n",
    "from sklearn.metrics import classification_report, confusion_matrix\n",
    "\n",
    "from imblearn.under_sampling import RandomUnderSampler"
   ]
  },
  {
   "cell_type": "code",
   "execution_count": 2,
   "metadata": {
    "colab": {
     "base_uri": "https://localhost:8080/",
     "height": 419
    },
    "id": "8aRkPBK_aghG",
    "outputId": "25ad5750-a8e3-439b-b5b3-31706eb357da"
   },
   "outputs": [
    {
     "data": {
      "text/html": [
       "<div>\n",
       "<style scoped>\n",
       "    .dataframe tbody tr th:only-of-type {\n",
       "        vertical-align: middle;\n",
       "    }\n",
       "\n",
       "    .dataframe tbody tr th {\n",
       "        vertical-align: top;\n",
       "    }\n",
       "\n",
       "    .dataframe thead th {\n",
       "        text-align: right;\n",
       "    }\n",
       "</style>\n",
       "<table border=\"1\" class=\"dataframe\">\n",
       "  <thead>\n",
       "    <tr style=\"text-align: right;\">\n",
       "      <th></th>\n",
       "      <th>category</th>\n",
       "      <th>text_lemmatized</th>\n",
       "    </tr>\n",
       "  </thead>\n",
       "  <tbody>\n",
       "    <tr>\n",
       "      <th>0</th>\n",
       "      <td>fashion</td>\n",
       "      <td>forcing bridesmaid join # ootd # mirrormoment ...</td>\n",
       "    </tr>\n",
       "    <tr>\n",
       "      <th>1</th>\n",
       "      <td>pet</td>\n",
       "      <td>catman : get anything done ? : welcome world 😀...</td>\n",
       "    </tr>\n",
       "    <tr>\n",
       "      <th>2</th>\n",
       "      <td>fashion</td>\n",
       "      <td>guy please check @ awa_khiwe , really talented...</td>\n",
       "    </tr>\n",
       "    <tr>\n",
       "      <th>3</th>\n",
       "      <td>travel</td>\n",
       "      <td>world feel like 's falling apart , 's importan...</td>\n",
       "    </tr>\n",
       "    <tr>\n",
       "      <th>4</th>\n",
       "      <td>fashion</td>\n",
       "      <td>last night 🤫🤫🤫 .. # pink # club # nightout # d...</td>\n",
       "    </tr>\n",
       "  </tbody>\n",
       "</table>\n",
       "</div>"
      ],
      "text/plain": [
       "  category                                    text_lemmatized\n",
       "0  fashion  forcing bridesmaid join # ootd # mirrormoment ...\n",
       "1      pet  catman : get anything done ? : welcome world 😀...\n",
       "2  fashion  guy please check @ awa_khiwe , really talented...\n",
       "3   travel  world feel like 's falling apart , 's importan...\n",
       "4  fashion  last night 🤫🤫🤫 .. # pink # club # nightout # d..."
      ]
     },
     "execution_count": 2,
     "metadata": {},
     "output_type": "execute_result"
    }
   ],
   "source": [
    "# Lectura del dataset\n",
    "df_posts = pd.read_csv('./data/instagram_posts_lemmatized.csv')\n",
    "df_posts = df_posts.drop('Unnamed: 0', axis='columns') # Eliminación de columnas irrelevantes\n",
    "\n",
    "df_posts.head()"
   ]
  },
  {
   "cell_type": "markdown",
   "metadata": {
    "id": "1WTFlkdEU8_r"
   },
   "source": [
    "### **1 - Clasificación de texto**"
   ]
  },
  {
   "cell_type": "markdown",
   "metadata": {
    "id": "3WZjRTvYU8_r",
    "tags": []
   },
   "source": [
    "#### 1.1 - Matriz de frecuencias"
   ]
  },
  {
   "cell_type": "code",
   "execution_count": 3,
   "metadata": {
    "id": "qzCjjGCmjgcg"
   },
   "outputs": [],
   "source": [
    "# Matriz TF-IDF\n",
    "tv = TfidfVectorizer() # Inicialización del vectorizador TF-IDF\n",
    "tv_matrix = tv.fit_transform(df_posts['text_lemmatized']) # Aplicación del vectorizador TF-IDF a la columna 'text_lemmatized'"
   ]
  },
  {
   "cell_type": "markdown",
   "metadata": {
    "id": "88l5EG0oU8_s"
   },
   "source": [
    "<div style=\"border: 5px solid #FF0069; padding: 20px; font-size: 16px; background-color: rgba(255, 0, 105, 0.2);\">\n",
    "La matriz TF-IDF (Term Frequency-Inverse Document Frequency) es una representación numérica que mide la importancia relativa de las palabras en un conjunto de textos. Cada fila representa un texto y cada columna representa una palabra lematizada, con los valores numéricos correspondientes a su TF-IDF.\n",
    "<br><br>\n",
    "Este algoritmo se utiliza para transformar textos en representaciones numéricas que pueden ser utilizadas en modelos de Machine Learning para diferentes objetivos como clasificación de texto.\n",
    "</div>"
   ]
  },
  {
   "cell_type": "markdown",
   "metadata": {
    "id": "0_cMWK9eU8_s",
    "tags": []
   },
   "source": [
    "#### 1.2 - Modelo de clasificación"
   ]
  },
  {
   "cell_type": "code",
   "execution_count": 4,
   "metadata": {
    "id": "TH9vLLWWlHjI"
   },
   "outputs": [],
   "source": [
    "# Variable dependiente\n",
    "y = df_posts['category']\n",
    "\n",
    "# Variables independientes\n",
    "x = tv_matrix\n",
    "\n",
    "# Conjunto de datos de entrenamiento y de prueba\n",
    "x_train, x_test, y_train, y_test = train_test_split(x, y, test_size=0.3, random_state=123)"
   ]
  },
  {
   "cell_type": "code",
   "execution_count": 5,
   "metadata": {
    "id": "OtTUat3BU8_t"
   },
   "outputs": [],
   "source": [
    "# Modelo SVC (Support Vector Classification)\n",
    "svc = SVC()\n",
    "svc_model = svc.fit(x_train, y_train)\n",
    "\n",
    "# Predicción con SVC\n",
    "y_pred = svc.predict(x_test)"
   ]
  },
  {
   "cell_type": "code",
   "execution_count": 6,
   "metadata": {
    "id": "9AScrQB2U8_t",
    "outputId": "7e8b2a60-287f-4077-87fa-aa36ea65255f"
   },
   "outputs": [
    {
     "name": "stdout",
     "output_type": "stream",
     "text": [
      "Métricas del modelo:\n",
      "- Precision: 0.645\n",
      "- Recall: 0.611\n",
      "- F1-Score: 0.599\n"
     ]
    }
   ],
   "source": [
    "# Métricas del modelo\n",
    "precision = precision_score(y_test, y_pred, average='weighted').round(3)\n",
    "recall = recall_score(y_test, y_pred, average='weighted').round(3)\n",
    "f1 = f1_score(y_test, y_pred, average='weighted').round(3)\n",
    "\n",
    "print(\"Métricas del modelo:\")\n",
    "print(\"- Precision:\", precision)\n",
    "print(\"- Recall:\", recall)\n",
    "print(\"- F1-Score:\", f1)"
   ]
  },
  {
   "cell_type": "markdown",
   "metadata": {
    "id": "Hr13BFarU8_t"
   },
   "source": [
    "<div style=\"border: 5px solid #FF0069; padding: 20px; font-size: 16px; background-color: rgba(255, 0, 105, 0.2);\">\n",
    "El modelo alcanza una precision y un recall global del 64% y del 61%, respectivamente, en la clasificación de las categorías de las publicaciones. \n",
    "<br><br>\n",
    "En otras palabras, el modelo clasifica correctamente alrededor de 6 de cada 10 publicaciones del conjunto de datos de test. Además, de todas las publicaciones que realmente pertenecen a una categoría específica, el modelo logra recuperar el 61% de ellas.\n",
    "</div>"
   ]
  },
  {
   "cell_type": "code",
   "execution_count": 7,
   "metadata": {
    "id": "GFus_DsoU8_t",
    "outputId": "4c70db8a-999a-4818-9ddd-2524903d0fa0"
   },
   "outputs": [
    {
     "name": "stdout",
     "output_type": "stream",
     "text": [
      "Informe de clasificación en test:\n",
      "\n",
      "               precision    recall  f1-score   support\n",
      "\n",
      "      beauty       0.79      0.38      0.51      7308\n",
      "      family       0.63      0.43      0.51     23652\n",
      "     fashion       0.54      0.86      0.66     60244\n",
      "     fitness       0.69      0.30      0.42      6558\n",
      "        food       0.78      0.64      0.71     22463\n",
      "    interior       0.80      0.47      0.60      7217\n",
      "       other       0.63      0.53      0.58     29454\n",
      "         pet       0.78      0.44      0.56      3587\n",
      "      travel       0.70      0.43      0.53     21788\n",
      "\n",
      "    accuracy                           0.61    182271\n",
      "   macro avg       0.70      0.50      0.56    182271\n",
      "weighted avg       0.64      0.61      0.60    182271\n",
      "\n"
     ]
    }
   ],
   "source": [
    "# Informe de clasificación en test\n",
    "clf_report_test = classification_report(y_test, y_pred)\n",
    "\n",
    "print(\"Informe de clasificación en test:\\n\\n\", clf_report_test)"
   ]
  },
  {
   "cell_type": "markdown",
   "metadata": {
    "id": "Hr13BFarU8_t"
   },
   "source": [
    "<div style=\"border: 5px solid #FF0069; padding: 20px; font-size: 16px; background-color: rgba(255, 0, 105, 0.2);\">\n",
    "Al observar las métricas desglosadas por categoría, se puede apreciar que el rendimiento varía según las clases:\n",
    "<br><br>\n",
    "El modelo destaca por clasificar con una <u>precisión alta las publicaciones de las categorías 'interior', 'beauty', 'food' y 'pet'</u>. Sin embargo, presenta <u>dificultades para otras categorías como 'fashion', 'family' y 'other'</u>, que son curiosamente las que cuentan con el mayor número de muestras.\n",
    "<br><br>\n",
    "Es evidente que la categoría <u>'fashion' destaca por tener el recall más alto, pero también la precisión más baja</u>, por lo que tiene problemas en la distinción precisa entre el contenido de moda y otras categorías al ser 'fashion' la categoría con mayor cantidad de publicaciones en el dataset. En contraste, <u>'food' exhibe el equilibrio más notable</u> al tener el F1-Score más alto, combinando una alta precisión y recall. Este equilibrio podría estar relacionado con las características distintivas del contenido de comida.\n",
    "<br><br>   \n",
    "Además, <u>las clases con un menor volumen de publicaciones</u> ('pet', 'fitness', 'interior' y 'beauty') <u>son, salvo 'fitness', las clases con mayor tasa de presición</u>. Esto se debe a que el modelo, al tener menos datos para aprender de estas categorías, realiza predicciones más seguras y menos propensas a errores, lo que justifica sus valores bajos de recall.\n",
    "</div>"
   ]
  },
  {
   "cell_type": "code",
   "execution_count": 8,
   "metadata": {
    "id": "9j1GemBWU8_t",
    "outputId": "c8051949-b645-4759-b19b-2f961e51d943"
   },
   "outputs": [
    {
     "name": "stdout",
     "output_type": "stream",
     "text": [
      "Matriz de confusión en test:\n",
      "\n",
      " [[ 2742   145  3719    15    56     5   536    13    77]\n",
      " [   69 10276  9558   125   843   223  1876    86   596]\n",
      " [  342  1950 52097   261  1067   208  2665    98  1556]\n",
      " [    8   239  3209  1952   206     6   681    20   237]\n",
      " [   59   871  4933   111 14406   159  1247    62   615]\n",
      " [    9   616  2374     1   187  3417   414    18   181]\n",
      " [  208  1359 10283   246   913   120 15559    90   676]\n",
      " [    1   227  1382     3    57     9   230  1576   102]\n",
      " [   20   743  9421   125   618    98  1400    68  9295]]\n"
     ]
    }
   ],
   "source": [
    "# Matriz de confusión en test\n",
    "confusion_matrix_test = confusion_matrix(y_test, y_pred)\n",
    "\n",
    "print(\"Matriz de confusión en test:\\n\\n\", confusion_matrix_test)"
   ]
  },
  {
   "cell_type": "markdown",
   "metadata": {},
   "source": [
    "<div style=\"border: 5px solid #FF0069; padding: 20px; font-size: 16px; background-color: rgba(255, 0, 105, 0.2);\">\n",
    "La matriz de confusión generada ofrece una perspectiva clara sobre cómo el modelo clasifica las diferentes categorías y dónde se producen las confusiones. \n",
    "<br><br> \n",
    "En la tercera columna, que corresponde a la categoría 'fashion', se puede observar que la mayor cantidad de errores de clasificación ocurren dentro de esta categoría. Además, la categoría 'other' también contribuye a un número considerable de errores en las predicciones. Estos resultados pueden atribuirse en parte a la amplitud y diversidad de la clase 'other', la cual abarca una gran variedad de temas y cuyas temáticas de contenido no están bien definidas.\n",
    "</div>"
   ]
  },
  {
   "cell_type": "code",
   "execution_count": 9,
   "metadata": {
    "id": "ofs_l4vyU8_t",
    "outputId": "2954f1a3-3a2f-4273-db99-2a3acca1f950"
   },
   "outputs": [
    {
     "name": "stdout",
     "output_type": "stream",
     "text": [
      "Matriz de confusión en train:\n",
      "\n",
      " [[ 11278    261   4977     33    100     16    581     25    157]\n",
      " [   122  45111   7154    131    855    166   1096     57    521]\n",
      " [   198   1117 137192    123    777    124    529     50    615]\n",
      " [    26    323   4160   9558    335     11    604     24    267]\n",
      " [    94    962   4116    122  45463    153    700     58    659]\n",
      " [    14    748   2585      5    247  13086    328     28    201]\n",
      " [   154   1061   5806    155    964    108  59637     70    683]\n",
      " [     1    202   1696      3     83     12    196   6023     97]\n",
      " [    59    884   7743    133    750     90    943     63  39437]]\n"
     ]
    }
   ],
   "source": [
    "# Matriz de confusión en train\n",
    "confusion_matrix_train = confusion_matrix(y_train, svc.predict(x_train))\n",
    "\n",
    "print(\"Matriz de confusión en train:\\n\\n\", confusion_matrix_train)"
   ]
  },
  {
   "cell_type": "markdown",
   "metadata": {},
   "source": [
    "<div style=\"border: 5px solid #FF0069; padding: 20px; font-size: 16px; background-color: rgba(255, 0, 105, 0.2);\">\n",
    "La matriz de confusión en el conjunto de entrenamiento muestra cómo el modelo clasifica las muestras en diferentes categorías y ayuda a determinar si el modelo está generalizando adecuadamente o si está sobreajustando los datos de entrenamiento.\n",
    "</div>"
   ]
  },
  {
   "cell_type": "markdown",
   "metadata": {
    "id": "MADzq2yTU8_u",
    "tags": []
   },
   "source": [
    "### **2 - Clasificación de texto con undersampling**"
   ]
  },
  {
   "cell_type": "markdown",
   "metadata": {
    "id": "DWp6HQH9U8_u"
   },
   "source": [
    "#### 2.1 - Balanceo de clases"
   ]
  },
  {
   "cell_type": "code",
   "execution_count": 10,
   "metadata": {
    "id": "pyp2mRXHU8_u",
    "outputId": "6245c58b-cff9-4cf7-beaf-282b2b598410"
   },
   "outputs": [
    {
     "data": {
      "text/html": [
       "<div>\n",
       "<style scoped>\n",
       "    .dataframe tbody tr th:only-of-type {\n",
       "        vertical-align: middle;\n",
       "    }\n",
       "\n",
       "    .dataframe tbody tr th {\n",
       "        vertical-align: top;\n",
       "    }\n",
       "\n",
       "    .dataframe thead th {\n",
       "        text-align: right;\n",
       "    }\n",
       "</style>\n",
       "<table border=\"1\" class=\"dataframe\">\n",
       "  <thead>\n",
       "    <tr style=\"text-align: right;\">\n",
       "      <th></th>\n",
       "      <th>category</th>\n",
       "      <th>n_posts</th>\n",
       "    </tr>\n",
       "  </thead>\n",
       "  <tbody>\n",
       "    <tr>\n",
       "      <th>0</th>\n",
       "      <td>fashion</td>\n",
       "      <td>200969</td>\n",
       "    </tr>\n",
       "    <tr>\n",
       "      <th>1</th>\n",
       "      <td>other</td>\n",
       "      <td>98092</td>\n",
       "    </tr>\n",
       "    <tr>\n",
       "      <th>2</th>\n",
       "      <td>family</td>\n",
       "      <td>78865</td>\n",
       "    </tr>\n",
       "    <tr>\n",
       "      <th>3</th>\n",
       "      <td>food</td>\n",
       "      <td>74790</td>\n",
       "    </tr>\n",
       "    <tr>\n",
       "      <th>4</th>\n",
       "      <td>travel</td>\n",
       "      <td>71890</td>\n",
       "    </tr>\n",
       "    <tr>\n",
       "      <th>5</th>\n",
       "      <td>beauty</td>\n",
       "      <td>24736</td>\n",
       "    </tr>\n",
       "    <tr>\n",
       "      <th>6</th>\n",
       "      <td>interior</td>\n",
       "      <td>24459</td>\n",
       "    </tr>\n",
       "    <tr>\n",
       "      <th>7</th>\n",
       "      <td>fitness</td>\n",
       "      <td>21866</td>\n",
       "    </tr>\n",
       "    <tr>\n",
       "      <th>8</th>\n",
       "      <td>pet</td>\n",
       "      <td>11900</td>\n",
       "    </tr>\n",
       "  </tbody>\n",
       "</table>\n",
       "</div>"
      ],
      "text/plain": [
       "   category  n_posts\n",
       "0   fashion   200969\n",
       "1     other    98092\n",
       "2    family    78865\n",
       "3      food    74790\n",
       "4    travel    71890\n",
       "5    beauty    24736\n",
       "6  interior    24459\n",
       "7   fitness    21866\n",
       "8       pet    11900"
      ]
     },
     "execution_count": 10,
     "metadata": {},
     "output_type": "execute_result"
    }
   ],
   "source": [
    "# Número de publicaciones por categoría\n",
    "category_post = df_posts['category'].value_counts()\n",
    "category_post = category_post.to_frame(name='n_posts').reset_index().rename(columns={'index':'category'})\n",
    "\n",
    "category_post"
   ]
  },
  {
   "cell_type": "code",
   "execution_count": 11,
   "metadata": {
    "id": "AA_vzzjiU8_u",
    "outputId": "b767ec1b-73d3-4446-f16a-eca0d2dfc630"
   },
   "outputs": [
    {
     "name": "stdout",
     "output_type": "stream",
     "text": [
      "Mínimo de muestras:  11900\n"
     ]
    }
   ],
   "source": [
    "# Número mínimo de muestras a retener para cada clase\n",
    "min_samples = category_post['n_posts'].min()\n",
    "\n",
    "print(\"Mínimo de muestras por clase: \", min_samples)"
   ]
  },
  {
   "cell_type": "code",
   "execution_count": 12,
   "metadata": {
    "id": "FReD5mIyU8_u"
   },
   "outputs": [],
   "source": [
    "# Creación de RandomUnderSampler\n",
    "rus = RandomUnderSampler(sampling_strategy = {category: min_samples for category in df_posts['category'].unique()}, random_state=42)\n",
    "\n",
    "# Aplicación de undersampling al dataframe\n",
    "x_resampled, y_resampled = rus.fit_resample(df_posts['text_lemmatized'].values.reshape(-1, 1), df_posts['category'])\n",
    "\n",
    "# Creación del dataframe balanceado\n",
    "df_posts_balanced = pd.DataFrame({'category': y_resampled, 'text_lemmatized': x_resampled.flatten()})"
   ]
  },
  {
   "cell_type": "code",
   "execution_count": 13,
   "metadata": {
    "id": "RkI1SXwRU8_u",
    "outputId": "daad63c4-775a-453f-9b7d-b793e29bd9ac"
   },
   "outputs": [
    {
     "data": {
      "text/plain": [
       "(107100, 2)"
      ]
     },
     "execution_count": 13,
     "metadata": {},
     "output_type": "execute_result"
    }
   ],
   "source": [
    "# Tamaño del dataset balanceado\n",
    "df_posts_balanced.shape"
   ]
  },
  {
   "cell_type": "markdown",
   "metadata": {
    "id": "AVQcqiX0U8_u"
   },
   "source": [
    "<div style=\"border: 5px solid #FF0069; padding: 20px; font-size: 16px; background-color: rgba(255, 0, 105, 0.2);\">\n",
    "El análisis del informe de clasificación muestra disparidades en la precisión y el recall entre categorías que pueden deberse a los desequilibrios existentes en la cantidad de muestras por categoría. Este desbalanceo de clases puede producir un deterioro importante en la efectividad del modelo, impactando en cómo el modelo generaliza y perjudicando a las clases minoritarias.\n",
    "<br><br>    \n",
    "Balancear las clases podría ser una buena opción para mitigar este sesgo y permitir un aprendizaje más equilibrado que mejore la precisión general del modelo en todas las categorías.\n",
    "</div>"
   ]
  },
  {
   "cell_type": "markdown",
   "metadata": {
    "id": "lM7F7aAQU8_u"
   },
   "source": [
    "#### 2.2 - Matriz de frecuencias"
   ]
  },
  {
   "cell_type": "code",
   "execution_count": 14,
   "metadata": {
    "id": "3sTSbaThU8_v"
   },
   "outputs": [],
   "source": [
    "# Matriz TF-IDF\n",
    "tv_balanced = TfidfVectorizer() # Inicialización del vectorizador TF-IDF\n",
    "tv_matrix_balanced = tv_balanced.fit_transform(df_posts_balanced['text_lemmatized']) # Aplicación del vectorizador TF-IDF a la columna 'text_lemmatized'"
   ]
  },
  {
   "cell_type": "markdown",
   "metadata": {
    "id": "zUgYkt-8U8_v"
   },
   "source": [
    "#### 2.3 - Modelo de clasificación"
   ]
  },
  {
   "cell_type": "code",
   "execution_count": 15,
   "metadata": {
    "id": "2W9PomPTU8_v"
   },
   "outputs": [],
   "source": [
    "# Variable dependiente\n",
    "y_balanced = df_posts_balanced['category']\n",
    "\n",
    "# Variables independientes\n",
    "x_balanced = tv_matrix_balanced\n",
    "\n",
    "# Conjunto de datos de entrenamiento y de prueba\n",
    "x_balanced_train, x_balanced_test, y_balanced_train, y_balanced_test = train_test_split(x_balanced, y_balanced, test_size=0.3, random_state=123)"
   ]
  },
  {
   "cell_type": "code",
   "execution_count": 16,
   "metadata": {
    "id": "sVPB-pefU8_v"
   },
   "outputs": [],
   "source": [
    "# Modelo SVC (Support Vector Classification)\n",
    "svc_balanced = SVC()\n",
    "svc_model_balanced = svc_balanced.fit(x_balanced_train, y_balanced_train)\n",
    "\n",
    "# Predicción con SVC\n",
    "y_balanced_pred = svc_balanced.predict(x_balanced_test)"
   ]
  },
  {
   "cell_type": "code",
   "execution_count": 17,
   "metadata": {
    "id": "lwAisz3fU8_v",
    "outputId": "16b6b94d-8a1a-4e85-e818-a3eea1956783"
   },
   "outputs": [
    {
     "name": "stdout",
     "output_type": "stream",
     "text": [
      "Métricas del modelo:\n",
      "- Precision: 0.566\n",
      "- Recall: 0.54\n",
      "- F1-Score: 0.548\n"
     ]
    }
   ],
   "source": [
    "# Métricas del modelo\n",
    "precision_balanced = precision_score(y_balanced_test, y_balanced_pred, average='weighted').round(3)\n",
    "recall_balanced = recall_score(y_balanced_test, y_balanced_pred, average='weighted').round(3)\n",
    "f1_balanced = f1_score(y_balanced_test, y_balanced_pred, average='weighted').round(3)\n",
    "\n",
    "print(\"Métricas del modelo:\")\n",
    "print(\"- Precision:\", precision_balanced)\n",
    "print(\"- Recall:\", recall_balanced)\n",
    "print(\"- F1-Score:\", f1_balanced)"
   ]
  },
  {
   "cell_type": "code",
   "execution_count": 18,
   "metadata": {
    "id": "5cuNL4X0U8_v",
    "outputId": "971fba16-e3c6-4451-ac36-2e2222d5e0a0"
   },
   "outputs": [
    {
     "name": "stdout",
     "output_type": "stream",
     "text": [
      "Informe de clasificación en test:\n",
      "\n",
      "               precision    recall  f1-score   support\n",
      "\n",
      "      beauty       0.68      0.56      0.61      3627\n",
      "      family       0.44      0.45      0.45      3598\n",
      "     fashion       0.40      0.39      0.39      3649\n",
      "     fitness       0.57      0.52      0.54      3477\n",
      "        food       0.70      0.62      0.65      3556\n",
      "    interior       0.73      0.62      0.67      3466\n",
      "       other       0.34      0.53      0.41      3554\n",
      "         pet       0.77      0.66      0.71      3589\n",
      "      travel       0.48      0.52      0.50      3614\n",
      "\n",
      "    accuracy                           0.54     32130\n",
      "   macro avg       0.57      0.54      0.55     32130\n",
      "weighted avg       0.57      0.54      0.55     32130\n",
      "\n"
     ]
    }
   ],
   "source": [
    "# Informe de clasificación en test\n",
    "clf_report_balanced_test = classification_report(y_balanced_test, y_balanced_pred)\n",
    "\n",
    "print(\"Informe de clasificación en test:\\n\\n\", clf_report_balanced_test)"
   ]
  },
  {
   "cell_type": "markdown",
   "metadata": {
    "id": "m4BKYizBU8_v"
   },
   "source": [
    "<div style=\"border: 5px solid #FF0069; padding: 20px; font-size: 16px; background-color: rgba(255, 0, 105, 0.2);\">\n",
    "Sin embargo, al examinar el informe de clasificación tras haber balanceado las clases, se observa que no solo la precisión no mejora, sino que empeora. No obstante, sí que hay una mejora en el recall de todas las categorías excepto en 'fashion'.\n",
    "</div>"
   ]
  },
  {
   "cell_type": "code",
   "execution_count": 19,
   "metadata": {
    "id": "5gt-uvNNU8_v",
    "outputId": "8190954b-3799-44a6-95f9-dbc9002727c8"
   },
   "outputs": [
    {
     "name": "stdout",
     "output_type": "stream",
     "text": [
      "Matriz de confusión en test:\n",
      "\n",
      " [[2014  187  430  180   43   39  521   66  147]\n",
      " [ 129 1618  333  205  176  169  578  116  274]\n",
      " [ 281  317 1424  244  107  143  580  102  451]\n",
      " [ 110  224  288 1809  146   32  523   76  269]\n",
      " [  75  204  155  122 2187  127  387   56  243]\n",
      " [  61  322  211   46  109 2143  275   72  227]\n",
      " [ 178  324  275  263  154  112 1901   96  251]\n",
      " [  35  220  154   85   71   79  376 2356  213]\n",
      " [  76  240  325  210  148  108  509  103 1895]]\n"
     ]
    }
   ],
   "source": [
    "# Matriz de confusión en test\n",
    "confusion_matrix_balanced_test = confusion_matrix(y_balanced_test, y_balanced_pred)\n",
    "\n",
    "print(\"Matriz de confusión en test:\\n\\n\", confusion_matrix_balanced_test)"
   ]
  },
  {
   "cell_type": "code",
   "execution_count": 20,
   "metadata": {
    "id": "OaaUB_30U8_v",
    "outputId": "b053146a-419a-4298-ad4b-73a5a91c7530"
   },
   "outputs": [
    {
     "name": "stdout",
     "output_type": "stream",
     "text": [
      "Matriz de confusión en train:\n",
      "\n",
      " [[7695   97  120   78   44   22   79   40   98]\n",
      " [  60 7668  105   71   97   77   64   52  108]\n",
      " [ 113  143 7503   81   71   65   73   45  157]\n",
      " [  52  102   85 7855  112   26   57   38   96]\n",
      " [  60  147   79   90 7680   67   59   42  120]\n",
      " [  37  142   71   24   68 7939   42   40   71]\n",
      " [  75  124   60  113  108   60 7636   64  106]\n",
      " [  20   60   46   35   37   34   42 7983   54]\n",
      " [  57  114  116   96   92   55   63   73 7620]]\n"
     ]
    }
   ],
   "source": [
    "# Matriz de confusión en train\n",
    "confusion_matrix_balanced_train = confusion_matrix(y_balanced_train, svc_balanced.predict(x_balanced_train))\n",
    "\n",
    "print(\"Matriz de confusión en train:\\n\\n\", confusion_matrix_balanced_train)"
   ]
  }
 ],
 "metadata": {
  "colab": {
   "provenance": []
  },
  "kernelspec": {
   "display_name": "Python 3 (ipykernel)",
   "language": "python",
   "name": "python3"
  },
  "language_info": {
   "codemirror_mode": {
    "name": "ipython",
    "version": 3
   },
   "file_extension": ".py",
   "mimetype": "text/x-python",
   "name": "python",
   "nbconvert_exporter": "python",
   "pygments_lexer": "ipython3",
   "version": "3.9.13"
  }
 },
 "nbformat": 4,
 "nbformat_minor": 4
}
